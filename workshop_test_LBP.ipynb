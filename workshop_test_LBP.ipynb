{
 "cells": [
  {
   "cell_type": "code",
   "execution_count": 10,
   "metadata": {
    "hideCode": false,
    "hidePrompt": false
   },
   "outputs": [],
   "source": [
    "import numpy as np # numpy = numeric python. Useful when dealing with e.g. arrays...\n",
    "import matplotlib.pyplot as plt # useful to plot data\n",
    "import ase, ase.io # ase=atomic simulation environment. A MUST for every computational chemist...\n",
    "from ase.visualize import view # to allow us to creat a 3D snapshot of the atomic structures\n",
    "from ase.optimize import BFGS # Broyden–Fletcher–Goldfarb–Shanno minimisation algorithm\n",
    "from ase.calculators.lj import LennardJones # built-in LJ calculator in ase\n",
    "import nglview as nv"
   ]
  },
  {
   "cell_type": "code",
   "execution_count": 11,
   "metadata": {},
   "outputs": [],
   "source": [
    "at_3N = ase.Atoms('N3',  # three nitrogen atoms\n",
    "                  positions=[(0,0,0.1),(1.5,0,-0.5),(3,0,0)], # xyz coordinates for all three atoms\n",
    "                  cell=[(10,0,0),(0,10,0),(0,0,10)], # three cell vectors in a matrix\n",
    "                  pbc=[(True,True,True)]) # applying periodic boundary conditions for all directions"
   ]
  },
  {
   "cell_type": "code",
   "execution_count": 12,
   "metadata": {
    "hideCode": false,
    "hidePrompt": false
   },
   "outputs": [],
   "source": [
    "ase.io.write(\"system.pdb\", at_3N)"
   ]
  },
  {
   "cell_type": "code",
   "execution_count": 13,
   "metadata": {},
   "outputs": [
    {
     "data": {
      "application/vnd.jupyter.widget-view+json": {
       "model_id": "6845e49857bb4f88a279aa9538ebff18",
       "version_major": 2,
       "version_minor": 0
      },
      "text/plain": [
       "NGLWidget()"
      ]
     },
     "metadata": {},
     "output_type": "display_data"
    }
   ],
   "source": [
    "import pytraj as pt\n",
    "#import nglview as nv\n",
    "p_traj = pt.load('system.pdb')\n",
    "p_view = nv.show_pytraj(p_traj)\n",
    "p_view.add_unitcell()\n",
    "p_view"
   ]
  }
 ],
 "metadata": {
  "hide_code_all_hidden": false,
  "kernelspec": {
   "display_name": "Python 3",
   "language": "python",
   "name": "python3"
  },
  "language_info": {
   "codemirror_mode": {
    "name": "ipython",
    "version": 3
   },
   "file_extension": ".py",
   "mimetype": "text/x-python",
   "name": "python",
   "nbconvert_exporter": "python",
   "pygments_lexer": "ipython3",
   "version": "3.7.4"
  }
 },
 "nbformat": 4,
 "nbformat_minor": 4
}
